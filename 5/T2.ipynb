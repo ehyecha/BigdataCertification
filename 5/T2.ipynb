{
 "cells": [
  {
   "cell_type": "code",
   "execution_count": 203,
   "metadata": {},
   "outputs": [],
   "source": [
    "import pandas as pd\n",
    "import numpy as np\n",
    "from sklearn.model_selection import train_test_split;\n",
    "# RMSE\n",
    "from sklearn.metrics import mean_squared_error\n",
    "from sklearn.preprocessing import StandardScaler\n",
    "from sklearn.ensemble import RandomForestRegressor\n",
    "from xgboost import XGBRegressor\n",
    "\n"
   ]
  },
  {
   "cell_type": "code",
   "execution_count": 188,
   "metadata": {},
   "outputs": [],
   "source": [
    "train_df = pd.read_csv('./Dataset/train.csv')\n",
    "test_df = pd.read_csv('./Dataset/test.csv')"
   ]
  },
  {
   "cell_type": "code",
   "execution_count": 189,
   "metadata": {},
   "outputs": [
    {
     "data": {
      "text/plain": [
       "model           0\n",
       "year            0\n",
       "price           0\n",
       "transmission    0\n",
       "mileage         0\n",
       "fuelType        0\n",
       "tax             0\n",
       "mpg             0\n",
       "engineSize      0\n",
       "dtype: int64"
      ]
     },
     "execution_count": 189,
     "metadata": {},
     "output_type": "execute_result"
    }
   ],
   "source": [
    "train_df.isnull().sum()"
   ]
  },
  {
   "cell_type": "code",
   "execution_count": 190,
   "metadata": {},
   "outputs": [
    {
     "data": {
      "text/plain": [
       "model           0\n",
       "year            0\n",
       "transmission    0\n",
       "mileage         0\n",
       "fuelType        0\n",
       "tax             0\n",
       "mpg             0\n",
       "engineSize      0\n",
       "dtype: int64"
      ]
     },
     "execution_count": 190,
     "metadata": {},
     "output_type": "execute_result"
    }
   ],
   "source": [
    "test_df.isnull().sum()"
   ]
  },
  {
   "cell_type": "code",
   "execution_count": 191,
   "metadata": {},
   "outputs": [
    {
     "name": "stdout",
     "output_type": "stream",
     "text": [
      "<class 'pandas.core.frame.DataFrame'>\n",
      "RangeIndex: 3759 entries, 0 to 3758\n",
      "Data columns (total 9 columns):\n",
      " #   Column        Non-Null Count  Dtype  \n",
      "---  ------        --------------  -----  \n",
      " 0   model         3759 non-null   object \n",
      " 1   year          3759 non-null   int64  \n",
      " 2   price         3759 non-null   int64  \n",
      " 3   transmission  3759 non-null   object \n",
      " 4   mileage       3759 non-null   int64  \n",
      " 5   fuelType      3759 non-null   object \n",
      " 6   tax           3759 non-null   int64  \n",
      " 7   mpg           3759 non-null   float64\n",
      " 8   engineSize    3759 non-null   float64\n",
      "dtypes: float64(2), int64(4), object(3)\n",
      "memory usage: 264.4+ KB\n"
     ]
    }
   ],
   "source": [
    "train_df.info()"
   ]
  },
  {
   "cell_type": "code",
   "execution_count": 192,
   "metadata": {},
   "outputs": [
    {
     "data": {
      "text/html": [
       "<div>\n",
       "<style scoped>\n",
       "    .dataframe tbody tr th:only-of-type {\n",
       "        vertical-align: middle;\n",
       "    }\n",
       "\n",
       "    .dataframe tbody tr th {\n",
       "        vertical-align: top;\n",
       "    }\n",
       "\n",
       "    .dataframe thead th {\n",
       "        text-align: right;\n",
       "    }\n",
       "</style>\n",
       "<table border=\"1\" class=\"dataframe\">\n",
       "  <thead>\n",
       "    <tr style=\"text-align: right;\">\n",
       "      <th></th>\n",
       "      <th>year</th>\n",
       "      <th>price</th>\n",
       "      <th>mileage</th>\n",
       "      <th>tax</th>\n",
       "      <th>mpg</th>\n",
       "      <th>engineSize</th>\n",
       "    </tr>\n",
       "  </thead>\n",
       "  <tbody>\n",
       "    <tr>\n",
       "      <th>count</th>\n",
       "      <td>3759.000000</td>\n",
       "      <td>3759.000000</td>\n",
       "      <td>3759.000000</td>\n",
       "      <td>3759.000000</td>\n",
       "      <td>3759.000000</td>\n",
       "      <td>3759.000000</td>\n",
       "    </tr>\n",
       "    <tr>\n",
       "      <th>mean</th>\n",
       "      <td>2016.887736</td>\n",
       "      <td>12353.321362</td>\n",
       "      <td>23191.786379</td>\n",
       "      <td>114.444001</td>\n",
       "      <td>57.793083</td>\n",
       "      <td>1.352807</td>\n",
       "    </tr>\n",
       "    <tr>\n",
       "      <th>std</th>\n",
       "      <td>2.151811</td>\n",
       "      <td>4750.338051</td>\n",
       "      <td>19223.258713</td>\n",
       "      <td>61.713682</td>\n",
       "      <td>10.099221</td>\n",
       "      <td>0.437130</td>\n",
       "    </tr>\n",
       "    <tr>\n",
       "      <th>min</th>\n",
       "      <td>2002.000000</td>\n",
       "      <td>1095.000000</td>\n",
       "      <td>5.000000</td>\n",
       "      <td>0.000000</td>\n",
       "      <td>20.900000</td>\n",
       "      <td>0.000000</td>\n",
       "    </tr>\n",
       "    <tr>\n",
       "      <th>25%</th>\n",
       "      <td>2016.000000</td>\n",
       "      <td>9000.000000</td>\n",
       "      <td>9997.500000</td>\n",
       "      <td>75.000000</td>\n",
       "      <td>52.300000</td>\n",
       "      <td>1.000000</td>\n",
       "    </tr>\n",
       "    <tr>\n",
       "      <th>50%</th>\n",
       "      <td>2017.000000</td>\n",
       "      <td>11495.000000</td>\n",
       "      <td>18180.000000</td>\n",
       "      <td>145.000000</td>\n",
       "      <td>58.900000</td>\n",
       "      <td>1.200000</td>\n",
       "    </tr>\n",
       "    <tr>\n",
       "      <th>75%</th>\n",
       "      <td>2018.000000</td>\n",
       "      <td>15310.000000</td>\n",
       "      <td>31000.000000</td>\n",
       "      <td>145.000000</td>\n",
       "      <td>65.700000</td>\n",
       "      <td>1.500000</td>\n",
       "    </tr>\n",
       "    <tr>\n",
       "      <th>max</th>\n",
       "      <td>2060.000000</td>\n",
       "      <td>48000.000000</td>\n",
       "      <td>144000.000000</td>\n",
       "      <td>570.000000</td>\n",
       "      <td>201.800000</td>\n",
       "      <td>5.000000</td>\n",
       "    </tr>\n",
       "  </tbody>\n",
       "</table>\n",
       "</div>"
      ],
      "text/plain": [
       "              year         price        mileage          tax          mpg  \\\n",
       "count  3759.000000   3759.000000    3759.000000  3759.000000  3759.000000   \n",
       "mean   2016.887736  12353.321362   23191.786379   114.444001    57.793083   \n",
       "std       2.151811   4750.338051   19223.258713    61.713682    10.099221   \n",
       "min    2002.000000   1095.000000       5.000000     0.000000    20.900000   \n",
       "25%    2016.000000   9000.000000    9997.500000    75.000000    52.300000   \n",
       "50%    2017.000000  11495.000000   18180.000000   145.000000    58.900000   \n",
       "75%    2018.000000  15310.000000   31000.000000   145.000000    65.700000   \n",
       "max    2060.000000  48000.000000  144000.000000   570.000000   201.800000   \n",
       "\n",
       "        engineSize  \n",
       "count  3759.000000  \n",
       "mean      1.352807  \n",
       "std       0.437130  \n",
       "min       0.000000  \n",
       "25%       1.000000  \n",
       "50%       1.200000  \n",
       "75%       1.500000  \n",
       "max       5.000000  "
      ]
     },
     "execution_count": 192,
     "metadata": {},
     "output_type": "execute_result"
    }
   ],
   "source": [
    "train_df.describe()"
   ]
  },
  {
   "cell_type": "code",
   "execution_count": 193,
   "metadata": {},
   "outputs": [
    {
     "data": {
      "text/html": [
       "<div>\n",
       "<style scoped>\n",
       "    .dataframe tbody tr th:only-of-type {\n",
       "        vertical-align: middle;\n",
       "    }\n",
       "\n",
       "    .dataframe tbody tr th {\n",
       "        vertical-align: top;\n",
       "    }\n",
       "\n",
       "    .dataframe thead th {\n",
       "        text-align: right;\n",
       "    }\n",
       "</style>\n",
       "<table border=\"1\" class=\"dataframe\">\n",
       "  <thead>\n",
       "    <tr style=\"text-align: right;\">\n",
       "      <th></th>\n",
       "      <th>model</th>\n",
       "      <th>year</th>\n",
       "      <th>price</th>\n",
       "      <th>transmission</th>\n",
       "      <th>mileage</th>\n",
       "      <th>fuelType</th>\n",
       "      <th>tax</th>\n",
       "      <th>mpg</th>\n",
       "      <th>engineSize</th>\n",
       "    </tr>\n",
       "  </thead>\n",
       "  <tbody>\n",
       "    <tr>\n",
       "      <th>0</th>\n",
       "      <td>EcoSport</td>\n",
       "      <td>2017</td>\n",
       "      <td>10298</td>\n",
       "      <td>Manual</td>\n",
       "      <td>25013</td>\n",
       "      <td>Petrol</td>\n",
       "      <td>150</td>\n",
       "      <td>53.3</td>\n",
       "      <td>1.0</td>\n",
       "    </tr>\n",
       "    <tr>\n",
       "      <th>1</th>\n",
       "      <td>Focus</td>\n",
       "      <td>2016</td>\n",
       "      <td>10491</td>\n",
       "      <td>Manual</td>\n",
       "      <td>30970</td>\n",
       "      <td>Diesel</td>\n",
       "      <td>0</td>\n",
       "      <td>74.3</td>\n",
       "      <td>1.5</td>\n",
       "    </tr>\n",
       "    <tr>\n",
       "      <th>2</th>\n",
       "      <td>S-MAX</td>\n",
       "      <td>2017</td>\n",
       "      <td>13498</td>\n",
       "      <td>Manual</td>\n",
       "      <td>60200</td>\n",
       "      <td>Diesel</td>\n",
       "      <td>150</td>\n",
       "      <td>56.5</td>\n",
       "      <td>2.0</td>\n",
       "    </tr>\n",
       "    <tr>\n",
       "      <th>3</th>\n",
       "      <td>Fiesta</td>\n",
       "      <td>2018</td>\n",
       "      <td>10600</td>\n",
       "      <td>Manual</td>\n",
       "      <td>27380</td>\n",
       "      <td>Petrol</td>\n",
       "      <td>145</td>\n",
       "      <td>56.5</td>\n",
       "      <td>1.0</td>\n",
       "    </tr>\n",
       "    <tr>\n",
       "      <th>4</th>\n",
       "      <td>Fiesta</td>\n",
       "      <td>2018</td>\n",
       "      <td>11000</td>\n",
       "      <td>Manual</td>\n",
       "      <td>7724</td>\n",
       "      <td>Petrol</td>\n",
       "      <td>145</td>\n",
       "      <td>65.7</td>\n",
       "      <td>1.0</td>\n",
       "    </tr>\n",
       "  </tbody>\n",
       "</table>\n",
       "</div>"
      ],
      "text/plain": [
       "       model  year  price transmission  mileage fuelType  tax   mpg  \\\n",
       "0   EcoSport  2017  10298       Manual    25013   Petrol  150  53.3   \n",
       "1      Focus  2016  10491       Manual    30970   Diesel    0  74.3   \n",
       "2      S-MAX  2017  13498       Manual    60200   Diesel  150  56.5   \n",
       "3     Fiesta  2018  10600       Manual    27380   Petrol  145  56.5   \n",
       "4     Fiesta  2018  11000       Manual     7724   Petrol  145  65.7   \n",
       "\n",
       "   engineSize  \n",
       "0         1.0  \n",
       "1         1.5  \n",
       "2         2.0  \n",
       "3         1.0  \n",
       "4         1.0  "
      ]
     },
     "execution_count": 193,
     "metadata": {},
     "output_type": "execute_result"
    }
   ],
   "source": [
    "train_df.head()"
   ]
  },
  {
   "cell_type": "code",
   "execution_count": 194,
   "metadata": {},
   "outputs": [],
   "source": [
    "# categorical value (model, transmission, fuelType)\n",
    "train_df['fuelType'] = train_df['fuelType'].astype('category').cat.codes\n",
    "train_df['model'] = train_df['model'].astype('category').cat.codes\n",
    "train_df['transmission'] = train_df['transmission'].astype('category').cat.codes\n",
    "\n",
    "test_df['fuelType'] = test_df['fuelType'].astype('category').cat.codes\n",
    "test_df['model'] = test_df['model'].astype('category').cat.codes\n",
    "test_df['transmission'] = test_df['transmission'].astype('category').cat.codes"
   ]
  },
  {
   "cell_type": "code",
   "execution_count": 195,
   "metadata": {},
   "outputs": [],
   "source": [
    "\n",
    "y_train = train_df.pop('price')\n",
    "sc = StandardScaler()\n",
    "\n",
    "train_df = sc.fit_transform(train_df)\n",
    "test_df = sc.fit_transform(test_df)"
   ]
  },
  {
   "cell_type": "code",
   "execution_count": 196,
   "metadata": {},
   "outputs": [
    {
     "data": {
      "text/plain": [
       "array([[-1.04625813,  0.05217877,  0.0706481 , ...,  0.57622116,\n",
       "        -0.44495321, -0.8072054 ],\n",
       "       [-0.2509863 , -0.41260798,  0.0706481 , ..., -1.85468155,\n",
       "         1.63469164,  0.33677179],\n",
       "       [ 2.66501043,  0.05217877,  0.0706481 , ...,  0.57622116,\n",
       "        -0.12805495,  1.48074898],\n",
       "       ...,\n",
       "       [ 1.33955737,  0.05217877,  0.0706481 , ...,  0.49519107,\n",
       "        -0.0092181 , -0.34961452],\n",
       "       [-0.51607691,  0.51696553,  0.0706481 , ...,  0.57622116,\n",
       "         0.78302756, -0.8072054 ],\n",
       "       [ 1.33955737,  0.51696553,  0.0706481 , ...,  0.49519107,\n",
       "        -0.0092181 , -0.34961452]])"
      ]
     },
     "execution_count": 196,
     "metadata": {},
     "output_type": "execute_result"
    }
   ],
   "source": [
    "train_df"
   ]
  },
  {
   "cell_type": "code",
   "execution_count": 197,
   "metadata": {},
   "outputs": [],
   "source": [
    "X_train, X_test, y_train, y_test = train_test_split(train_df, y_train, test_size= 0.2, random_state=42);\n"
   ]
  },
  {
   "cell_type": "code",
   "execution_count": 198,
   "metadata": {},
   "outputs": [
    {
     "data": {
      "text/plain": [
       "((3007, 8), (752, 8), (3007,), (752,))"
      ]
     },
     "execution_count": 198,
     "metadata": {},
     "output_type": "execute_result"
    }
   ],
   "source": [
    "X_train.shape, X_test.shape, y_train.shape, y_test.shape"
   ]
  },
  {
   "cell_type": "code",
   "execution_count": 199,
   "metadata": {},
   "outputs": [
    {
     "data": {
      "text/plain": [
       "2752.7607810256945"
      ]
     },
     "execution_count": 199,
     "metadata": {},
     "output_type": "execute_result"
    }
   ],
   "source": [
    "from sklearn.linear_model import LogisticRegression\n",
    "\n",
    "model = LogisticRegression()\n",
    "model.fit(X_train, y_train)\n",
    "y_pred = model.predict(X_test)\n",
    "np.sqrt(mean_squared_error(y_test, y_pred))"
   ]
  },
  {
   "cell_type": "code",
   "execution_count": 200,
   "metadata": {},
   "outputs": [
    {
     "data": {
      "text/plain": [
       "1392.3740578558243"
      ]
     },
     "execution_count": 200,
     "metadata": {},
     "output_type": "execute_result"
    }
   ],
   "source": [
    "from sklearn.ensemble import RandomForestRegressor\n",
    "\n",
    "\n",
    "model = RandomForestRegressor(n_estimators=100)\n",
    "model.fit(X_train, y_train)\n",
    "y_pred = model.predict(X_test)\n",
    "np.sqrt(mean_squared_error(y_test, y_pred))"
   ]
  },
  {
   "cell_type": "code",
   "execution_count": 205,
   "metadata": {},
   "outputs": [
    {
     "data": {
      "text/plain": [
       "1372.0165429908768"
      ]
     },
     "execution_count": 205,
     "metadata": {},
     "output_type": "execute_result"
    }
   ],
   "source": [
    "model = XGBRegressor()\n",
    "model.fit(X_train, y_train)\n",
    "y_pred = model.predict(X_test)\n",
    "np.sqrt(mean_squared_error(y_test, y_pred))"
   ]
  },
  {
   "cell_type": "code",
   "execution_count": 207,
   "metadata": {},
   "outputs": [
    {
     "data": {
      "text/plain": [
       "array([11730.084, 13742.037, 12984.338, ...,  9187.823, 12870.5  ,\n",
       "        4627.043], dtype=float32)"
      ]
     },
     "execution_count": 207,
     "metadata": {},
     "output_type": "execute_result"
    }
   ],
   "source": [
    "result = model.predict(test_df)\n",
    "result"
   ]
  },
  {
   "cell_type": "code",
   "execution_count": 208,
   "metadata": {},
   "outputs": [],
   "source": [
    "pd.DataFrame({'price': result}).reset_index().rename(columns={'index': 'ID'}).to_csv('09-26.csv', index= False)"
   ]
  },
  {
   "cell_type": "code",
   "execution_count": null,
   "metadata": {},
   "outputs": [],
   "source": []
  }
 ],
 "metadata": {
  "kernelspec": {
   "display_name": "base",
   "language": "python",
   "name": "python3"
  },
  "language_info": {
   "codemirror_mode": {
    "name": "ipython",
    "version": 3
   },
   "file_extension": ".py",
   "mimetype": "text/x-python",
   "name": "python",
   "nbconvert_exporter": "python",
   "pygments_lexer": "ipython3",
   "version": "3.12.2"
  }
 },
 "nbformat": 4,
 "nbformat_minor": 2
}
