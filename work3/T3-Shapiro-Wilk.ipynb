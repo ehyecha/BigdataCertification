{
 "cells": [
  {
   "cell_type": "code",
   "execution_count": 14,
   "metadata": {},
   "outputs": [
    {
     "name": "stdout",
     "output_type": "stream",
     "text": [
      "0.9768091723993144 0.9676506711851194\n",
      "H0 귀무가설을 기각할 수 없습니다. 데이터는 정규분포를 따름\n"
     ]
    }
   ],
   "source": [
    "from scipy.stats import shapiro\n",
    "data = [75, 83, 81, 92, 68, 77, 78, 80, 85, 95, 79, 89]\n",
    "statistic, pvalue = shapiro(data)\n",
    "print(statistic, pvalue)\n",
    "\n",
    "alpha = 0.05\n",
    "if pvalue < alpha:\n",
    "    print(\"H0  귀무가설을 기각합니다, 데이터는 정규분포를 따르지 않음\")\n",
    "else:\n",
    "    print(\"H0 귀무가설을 기각할 수 없습니다. 데이터는 정규분포를 따름\")\n"
   ]
  }
 ],
 "metadata": {
  "kernelspec": {
   "display_name": "base",
   "language": "python",
   "name": "python3"
  },
  "language_info": {
   "codemirror_mode": {
    "name": "ipython",
    "version": 3
   },
   "file_extension": ".py",
   "mimetype": "text/x-python",
   "name": "python",
   "nbconvert_exporter": "python",
   "pygments_lexer": "ipython3",
   "version": "3.12.2"
  }
 },
 "nbformat": 4,
 "nbformat_minor": 2
}
