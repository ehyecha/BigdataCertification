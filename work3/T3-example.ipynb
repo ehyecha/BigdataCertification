{
 "cells": [
  {
   "cell_type": "code",
   "execution_count": 1,
   "metadata": {},
   "outputs": [],
   "source": [
    "import pandas as pd\n",
    "import numpy as np"
   ]
  },
  {
   "cell_type": "code",
   "execution_count": 2,
   "metadata": {},
   "outputs": [
    {
     "data": {
      "text/html": [
       "<div>\n",
       "<style scoped>\n",
       "    .dataframe tbody tr th:only-of-type {\n",
       "        vertical-align: middle;\n",
       "    }\n",
       "\n",
       "    .dataframe tbody tr th {\n",
       "        vertical-align: top;\n",
       "    }\n",
       "\n",
       "    .dataframe thead th {\n",
       "        text-align: right;\n",
       "    }\n",
       "</style>\n",
       "<table border=\"1\" class=\"dataframe\">\n",
       "  <thead>\n",
       "    <tr style=\"text-align: right;\">\n",
       "      <th></th>\n",
       "      <th>Id</th>\n",
       "      <th>sex</th>\n",
       "      <th>age</th>\n",
       "      <th>bp_pre</th>\n",
       "      <th>bp_post</th>\n",
       "    </tr>\n",
       "  </thead>\n",
       "  <tbody>\n",
       "    <tr>\n",
       "      <th>0</th>\n",
       "      <td>p001</td>\n",
       "      <td>Male</td>\n",
       "      <td>33</td>\n",
       "      <td>149</td>\n",
       "      <td>129</td>\n",
       "    </tr>\n",
       "    <tr>\n",
       "      <th>1</th>\n",
       "      <td>p002</td>\n",
       "      <td>Male</td>\n",
       "      <td>39</td>\n",
       "      <td>168</td>\n",
       "      <td>168</td>\n",
       "    </tr>\n",
       "    <tr>\n",
       "      <th>2</th>\n",
       "      <td>p003</td>\n",
       "      <td>Male</td>\n",
       "      <td>70</td>\n",
       "      <td>176</td>\n",
       "      <td>155</td>\n",
       "    </tr>\n",
       "    <tr>\n",
       "      <th>3</th>\n",
       "      <td>p004</td>\n",
       "      <td>Female</td>\n",
       "      <td>41</td>\n",
       "      <td>169</td>\n",
       "      <td>178</td>\n",
       "    </tr>\n",
       "    <tr>\n",
       "      <th>4</th>\n",
       "      <td>p005</td>\n",
       "      <td>Male</td>\n",
       "      <td>48</td>\n",
       "      <td>160</td>\n",
       "      <td>126</td>\n",
       "    </tr>\n",
       "    <tr>\n",
       "      <th>...</th>\n",
       "      <td>...</td>\n",
       "      <td>...</td>\n",
       "      <td>...</td>\n",
       "      <td>...</td>\n",
       "      <td>...</td>\n",
       "    </tr>\n",
       "    <tr>\n",
       "      <th>115</th>\n",
       "      <td>p116</td>\n",
       "      <td>Male</td>\n",
       "      <td>70</td>\n",
       "      <td>173</td>\n",
       "      <td>129</td>\n",
       "    </tr>\n",
       "    <tr>\n",
       "      <th>116</th>\n",
       "      <td>p117</td>\n",
       "      <td>Male</td>\n",
       "      <td>75</td>\n",
       "      <td>153</td>\n",
       "      <td>157</td>\n",
       "    </tr>\n",
       "    <tr>\n",
       "      <th>117</th>\n",
       "      <td>p118</td>\n",
       "      <td>Female</td>\n",
       "      <td>79</td>\n",
       "      <td>156</td>\n",
       "      <td>143</td>\n",
       "    </tr>\n",
       "    <tr>\n",
       "      <th>118</th>\n",
       "      <td>p119</td>\n",
       "      <td>Female</td>\n",
       "      <td>40</td>\n",
       "      <td>182</td>\n",
       "      <td>172</td>\n",
       "    </tr>\n",
       "    <tr>\n",
       "      <th>119</th>\n",
       "      <td>p120</td>\n",
       "      <td>Female</td>\n",
       "      <td>41</td>\n",
       "      <td>142</td>\n",
       "      <td>168</td>\n",
       "    </tr>\n",
       "  </tbody>\n",
       "</table>\n",
       "<p>120 rows × 5 columns</p>\n",
       "</div>"
      ],
      "text/plain": [
       "       Id     sex  age  bp_pre  bp_post\n",
       "0    p001    Male   33     149      129\n",
       "1    p002    Male   39     168      168\n",
       "2    p003    Male   70     176      155\n",
       "3    p004  Female   41     169      178\n",
       "4    p005    Male   48     160      126\n",
       "..    ...     ...  ...     ...      ...\n",
       "115  p116    Male   70     173      129\n",
       "116  p117    Male   75     153      157\n",
       "117  p118  Female   79     156      143\n",
       "118  p119  Female   40     182      172\n",
       "119  p120  Female   41     142      168\n",
       "\n",
       "[120 rows x 5 columns]"
      ]
     },
     "execution_count": 2,
     "metadata": {},
     "output_type": "execute_result"
    }
   ],
   "source": [
    "df = pd.read_csv('../data/high_blood_pressure.csv')\n",
    "df"
   ]
  },
  {
   "cell_type": "code",
   "execution_count": 3,
   "metadata": {},
   "outputs": [
    {
     "name": "stdout",
     "output_type": "stream",
     "text": [
      "ttest_1samp\n",
      "ttest_ind\n",
      "ttest_ind_from_stats\n",
      "ttest_rel\n"
     ]
    }
   ],
   "source": [
    "import scipy.stats\n",
    "\n",
    "for i in dir(scipy.stats):\n",
    "    if 'ttest' in i:\n",
    "        print(i)"
   ]
  },
  {
   "cell_type": "code",
   "execution_count": 7,
   "metadata": {},
   "outputs": [],
   "source": [
    "mean = (df['bp_post'] - df['bp_pre']).mean()\n",
    "mean = round(mean, 2)"
   ]
  },
  {
   "cell_type": "code",
   "execution_count": null,
   "metadata": {},
   "outputs": [],
   "source": []
  },
  {
   "cell_type": "code",
   "execution_count": 32,
   "metadata": {},
   "outputs": [
    {
     "name": "stdout",
     "output_type": "stream",
     "text": [
      "-3.0002163948827545 0.0016434474228511028\n"
     ]
    }
   ],
   "source": [
    "alpha = 0.05\n",
    "\n",
    "from  scipy.stats import ttest_rel\n",
    "\n",
    "\n",
    "\n",
    "statistic, p_value = ttest_rel(df['bp_post'], df['bp_pre'], alternative='less')\n",
    "\n",
    "print(statistic, p_value)"
   ]
  },
  {
   "cell_type": "code",
   "execution_count": 33,
   "metadata": {},
   "outputs": [
    {
     "name": "stdout",
     "output_type": "stream",
     "text": [
      "평균은  -6.12\n"
     ]
    }
   ],
   "source": [
    "mean = (df['bp_post'] -  df['bp_pre']).mean()\n",
    "print(\"평균은 \", round(mean,2))"
   ]
  },
  {
   "cell_type": "code",
   "execution_count": 35,
   "metadata": {},
   "outputs": [
    {
     "name": "stdout",
     "output_type": "stream",
     "text": [
      "검정통계량 : -3.0002, p-value : 0.0016\n"
     ]
    }
   ],
   "source": [
    "print(f\"검정통계량 : {round(statistic, 4)}, p-value : {round(p_value, 4)}\")"
   ]
  },
  {
   "cell_type": "code",
   "execution_count": 36,
   "metadata": {},
   "outputs": [
    {
     "name": "stdout",
     "output_type": "stream",
     "text": [
      "Reject Ho! 해당 치료는 효과가 있다.\n"
     ]
    }
   ],
   "source": [
    "\n",
    "if p_value < alpha:\n",
    "    print(\"Reject Ho! 해당 치료는 효과가 있다.\")\n",
    "else:  \n",
    "    print(\"해당 치료는 효과가 없다\")"
   ]
  },
  {
   "cell_type": "code",
   "execution_count": 37,
   "metadata": {},
   "outputs": [
    {
     "name": "stdout",
     "output_type": "stream",
     "text": [
      "-6.12\n",
      "-3.0002\n",
      "0.0016\n"
     ]
    }
   ],
   "source": [
    "df['diff'] = df['bp_post'] - df['bp_pre']\n",
    "\n",
    "#1\n",
    "print(round(df['diff'].mean(),2))\n",
    "\n",
    "#2 \n",
    "st, pv = ttest_rel(df['bp_post'], df['bp_pre'], alternative=\"less\")\n",
    "print(round(st,4))\n",
    "\n",
    "#3\n",
    "print(round(pv,4))\n"
   ]
  }
 ],
 "metadata": {
  "kernelspec": {
   "display_name": "base",
   "language": "python",
   "name": "python3"
  },
  "language_info": {
   "codemirror_mode": {
    "name": "ipython",
    "version": 3
   },
   "file_extension": ".py",
   "mimetype": "text/x-python",
   "name": "python",
   "nbconvert_exporter": "python",
   "pygments_lexer": "ipython3",
   "version": "3.12.2"
  }
 },
 "nbformat": 4,
 "nbformat_minor": 2
}
