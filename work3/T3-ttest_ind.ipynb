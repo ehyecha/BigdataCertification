{
 "cells": [
  {
   "cell_type": "code",
   "execution_count": 2,
   "metadata": {},
   "outputs": [
    {
     "name": "stdout",
     "output_type": "stream",
     "text": [
      "index ttest_1samp\n",
      "index ttest_ind\n",
      "index ttest_ind_from_stats\n",
      "index ttest_rel\n"
     ]
    }
   ],
   "source": [
    "from scipy.stats import ttest_ind\n",
    "\n",
    "for s in dir(scipy.stats):\n",
    "    if 'ttest' in s:\n",
    "        print('index', s)"
   ]
  },
  {
   "cell_type": "markdown",
   "metadata": {},
   "source": [
    "# 독립표본 t-검정: 두 개의 독립된 집단 간의 평균 비교.\n",
    "# 대응표본 t-검정: 동일한 집단의 두 시점 또는 조건 간의 평균 비교"
   ]
  },
  {
   "cell_type": "code",
   "execution_count": 5,
   "metadata": {},
   "outputs": [
    {
     "name": "stdout",
     "output_type": "stream",
     "text": [
      "3.7964208654863336 0.0013218914767036912\n"
     ]
    }
   ],
   "source": [
    "# 데이터 수집\n",
    "group1 = [36.8, 36.7, 37.1, 36.9, 37.2, 36.8, 36.9, 37.1, 36.7, 37.1]\n",
    "group2 = [36.5, 36.6, 36.3, 36.6, 36.9, 36.7, 36.7, 36.8, 36.5, 36.7]\n",
    "t_statistic, p_value = ttest_ind(group1, group2)\n",
    "\n",
    "print(t_statistic, p_value)"
   ]
  },
  {
   "cell_type": "code",
   "execution_count": 6,
   "metadata": {},
   "outputs": [
    {
     "name": "stdout",
     "output_type": "stream",
     "text": [
      "귀무가설을 기각합니다. 특정 약물을 복횽한 사람들의 평균 체온이 복용하지 않은 사람들의 평균 체온의 차이가 있다.\n"
     ]
    }
   ],
   "source": [
    "alpha = 0.05\n",
    "\n",
    "if p_value < alpha:\n",
    "    print(\"귀무가설을 기각합니다. 특정 약물을 복횽한 사람들의 평균 체온이 복용하지 않은 사람들의 평균 체온의 차이가 있다.\")\n",
    "else:\n",
    "    print(\"귀무가설을 채택합니다. 약물을 복용한 사람과 복용하지 않는 그룹간의 평균 체온의 차이가 없다.\")"
   ]
  }
 ],
 "metadata": {
  "kernelspec": {
   "display_name": "base",
   "language": "python",
   "name": "python3"
  },
  "language_info": {
   "codemirror_mode": {
    "name": "ipython",
    "version": 3
   },
   "file_extension": ".py",
   "mimetype": "text/x-python",
   "name": "python",
   "nbconvert_exporter": "python",
   "pygments_lexer": "ipython3",
   "version": "3.12.2"
  }
 },
 "nbformat": 4,
 "nbformat_minor": 2
}
