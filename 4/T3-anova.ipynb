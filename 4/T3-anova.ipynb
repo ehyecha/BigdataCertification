{
 "cells": [
  {
   "cell_type": "code",
   "execution_count": 1,
   "metadata": {},
   "outputs": [],
   "source": [
    "groupA = [85, 92, 78, 88, 83, 90, 76, 84, 92, 87]\n",
    "groupB = [79, 69, 84, 78, 79, 83, 79, 81, 86, 88]\n",
    "groupC = [75, 68, 74, 65, 77, 72, 70, 73, 78, 75]"
   ]
  },
  {
   "cell_type": "code",
   "execution_count": 3,
   "metadata": {},
   "outputs": [
    {
     "name": "stdout",
     "output_type": "stream",
     "text": [
      "F값: 16.88\n",
      "p값: 0.000018\n",
      "유의미한 차이가 있습니다.\n"
     ]
    }
   ],
   "source": [
    "import scipy.stats as stats\n",
    "\n",
    "# 예시 데이터 (각 그룹에 대한 성적 리스트를 예시로 생성해 주세요)\n",
    "groupA = [85, 92, 78, 88, 83, 90, 76, 84, 92, 87]\n",
    "groupB = [79, 69, 84, 78, 79, 83, 79, 81, 86, 88]\n",
    "groupC = [75, 68, 74, 65, 77, 72, 70, 73, 78, 75]\n",
    "\n",
    "# 일원배치법(ANOVA) 수행\n",
    "f_stat, p_value = stats.f_oneway(groupA, groupB, groupC)\n",
    "\n",
    "# 결과 출력\n",
    "print(f\"F값: {f_stat:.2f}\")\n",
    "print(f\"p값: {p_value:.6f}\")\n",
    "\n",
    "# 유의 수준을 기준으로 검정 결과 해석 (일반적으로 유의 수준 0.05 사용)\n",
    "alpha = 0.05\n",
    "if p_value < alpha:\n",
    "    print(\"유의미한 차이가 있습니다.\")\n",
    "else:\n",
    "    print(\"유의미한 차이가 없습니다.\")\n"
   ]
  }
 ],
 "metadata": {
  "kernelspec": {
   "display_name": "base",
   "language": "python",
   "name": "python3"
  },
  "language_info": {
   "codemirror_mode": {
    "name": "ipython",
    "version": 3
   },
   "file_extension": ".py",
   "mimetype": "text/x-python",
   "name": "python",
   "nbconvert_exporter": "python",
   "pygments_lexer": "ipython3",
   "version": "3.12.2"
  }
 },
 "nbformat": 4,
 "nbformat_minor": 2
}
